{
 "cells": [
  {
   "cell_type": "code",
   "execution_count": 5,
   "metadata": {
    "colab": {},
    "colab_type": "code",
    "id": "sCV30xyVhFbE"
   },
   "outputs": [],
   "source": [
    "import tensorflow as tf\n",
    "from keras.preprocessing.image import ImageDataGenerator"
   ]
  },
  {
   "cell_type": "code",
   "execution_count": 6,
   "metadata": {
    "colab": {},
    "colab_type": "code",
    "id": "FIleuCAjoFD8"
   },
   "outputs": [
    {
     "data": {
      "text/plain": [
       "'2.11.0'"
      ]
     },
     "execution_count": 6,
     "metadata": {},
     "output_type": "execute_result"
    }
   ],
   "source": [
    "tf.__version__"
   ]
  },
  {
   "cell_type": "markdown",
   "metadata": {
    "colab_type": "text",
    "id": "oxQxCBWyoGPE"
   },
   "source": [
    "# 데이터 전처리"
   ]
  },
  {
   "cell_type": "markdown",
   "metadata": {
    "colab_type": "text",
    "id": "MvE-heJNo3GG"
   },
   "source": [
    "### 훈련 세트"
   ]
  },
  {
   "cell_type": "code",
   "execution_count": 7,
   "metadata": {
    "colab": {},
    "colab_type": "code",
    "id": "0koUcJMJpEBD"
   },
   "outputs": [
    {
     "name": "stdout",
     "output_type": "stream",
     "text": [
      "Found 8000 images belonging to 2 classes.\n"
     ]
    }
   ],
   "source": [
    "train_datagen = ImageDataGenerator(rescale = 1./255, # 각 픽셀 값이 0~255이기 때문에 255로 나눠서 스케일링한다.\n",
    "                                   shear_range = 0.2,\n",
    "                                   zoom_range = 0.2,\n",
    "                                   horizontal_flip = True) # 과적합 예방\n",
    "training_set = train_datagen.flow_from_directory('dataset/training_set',\n",
    "                                                 target_size = (64, 64), \n",
    "                                                 batch_size = 32, # 크기 조절\n",
    "                                                 class_mode = 'binary') # 개 or 고양이 이진수"
   ]
  },
  {
   "cell_type": "markdown",
   "metadata": {
    "colab_type": "text",
    "id": "mrCMmGw9pHys"
   },
   "source": [
    "### 테스트 세트"
   ]
  },
  {
   "cell_type": "code",
   "execution_count": 8,
   "metadata": {
    "colab": {},
    "colab_type": "code",
    "id": "SH4WzfOhpKc3"
   },
   "outputs": [
    {
     "name": "stdout",
     "output_type": "stream",
     "text": [
      "Found 2000 images belonging to 2 classes.\n"
     ]
    }
   ],
   "source": [
    "test_datagen = ImageDataGenerator(rescale = 1./255)\n",
    "test_set = test_datagen.flow_from_directory('dataset/test_set',\n",
    "                                            target_size = (64, 64),\n",
    "                                            batch_size = 32,\n",
    "                                            class_mode = 'binary')"
   ]
  },
  {
   "cell_type": "markdown",
   "metadata": {
    "colab_type": "text",
    "id": "af8O4l90gk7B"
   },
   "source": [
    "# CNN 구현"
   ]
  },
  {
   "cell_type": "code",
   "execution_count": 9,
   "metadata": {
    "colab": {},
    "colab_type": "code",
    "id": "SAUt4UMPlhLS"
   },
   "outputs": [],
   "source": [
    "cnn = tf.keras.models.Sequential()"
   ]
  },
  {
   "cell_type": "markdown",
   "metadata": {
    "colab_type": "text",
    "id": "u5YJj_XMl5LF"
   },
   "source": [
    "합성곱 구현"
   ]
  },
  {
   "cell_type": "code",
   "execution_count": 10,
   "metadata": {
    "colab": {},
    "colab_type": "code",
    "id": "XPzPrMckl-hV"
   },
   "outputs": [],
   "source": [
    "# 3*3프레임, 활성 Relu함수, 컬러이기 때문에 3 (흑백은 1)\n",
    "cnn.add(tf.keras.layers.Conv2D(filters=32, kernel_size=3, activation='relu', input_shape=[64, 64, 3]))"
   ]
  },
  {
   "cell_type": "markdown",
   "metadata": {
    "colab_type": "text",
    "id": "tf87FpvxmNOJ"
   },
   "source": [
    "풀링"
   ]
  },
  {
   "cell_type": "code",
   "execution_count": 11,
   "metadata": {
    "colab": {},
    "colab_type": "code",
    "id": "ncpqPl69mOac"
   },
   "outputs": [],
   "source": [
    "# 2*2 프레임, 필수요소로 2픽셀마다 바꾼다.\n",
    "cnn.add(tf.keras.layers.MaxPool2D(pool_size=2, strides=2))"
   ]
  },
  {
   "cell_type": "markdown",
   "metadata": {
    "colab_type": "text",
    "id": "xaTOgD8rm4mU"
   },
   "source": [
    "합성곱 추가하기"
   ]
  },
  {
   "cell_type": "code",
   "execution_count": 12,
   "metadata": {
    "colab": {},
    "colab_type": "code",
    "id": "i_-FZjn_m8gk"
   },
   "outputs": [],
   "source": [
    "cnn.add(tf.keras.layers.Conv2D(filters=32, kernel_size=3, activation='relu'))\n",
    "cnn.add(tf.keras.layers.MaxPool2D(pool_size=2, strides=2))"
   ]
  },
  {
   "cell_type": "markdown",
   "metadata": {
    "colab_type": "text",
    "id": "tmiEuvTunKfk"
   },
   "source": [
    "Flattening"
   ]
  },
  {
   "cell_type": "code",
   "execution_count": 13,
   "metadata": {
    "colab": {},
    "colab_type": "code",
    "id": "6AZeOGCvnNZn"
   },
   "outputs": [],
   "source": [
    "cnn.add(tf.keras.layers.Flatten())"
   ]
  },
  {
   "cell_type": "markdown",
   "metadata": {
    "colab_type": "text",
    "id": "dAoSECOm203v"
   },
   "source": [
    "완전 연결"
   ]
  },
  {
   "cell_type": "code",
   "execution_count": 14,
   "metadata": {
    "colab": {},
    "colab_type": "code",
    "id": "8GtmUlLd26Nq"
   },
   "outputs": [],
   "source": [
    "# 뉴런 수 128개 선택, 활성함수 Relu\n",
    "cnn.add(tf.keras.layers.Dense(units=128, activation='relu'))"
   ]
  },
  {
   "cell_type": "markdown",
   "metadata": {
    "colab_type": "text",
    "id": "yTldFvbX28Na"
   },
   "source": [
    "출력 계층"
   ]
  },
  {
   "cell_type": "code",
   "execution_count": 16,
   "metadata": {
    "colab": {},
    "colab_type": "code",
    "id": "1p_Zj1Mc3Ko_"
   },
   "outputs": [],
   "source": [
    "# 이진 수이기 때문에 뉴런 수는 1개, 출력층에서는 Sigmoid (다중 분류에서는 Softmax함수)\n",
    "cnn.add(tf.keras.layers.Dense(units=1, activation='sigmoid'))"
   ]
  },
  {
   "cell_type": "markdown",
   "metadata": {
    "colab_type": "text",
    "id": "D6XkI90snSDl"
   },
   "source": [
    "# 훈련하기"
   ]
  },
  {
   "cell_type": "code",
   "execution_count": 17,
   "metadata": {
    "colab": {},
    "colab_type": "code",
    "id": "NALksrNQpUlJ"
   },
   "outputs": [],
   "source": [
    "# 이진 분류인것을 잊지 말자.\n",
    "cnn.compile(optimizer = 'adam', loss = 'binary_crossentropy', metrics = ['accuracy'])"
   ]
  },
  {
   "cell_type": "code",
   "execution_count": 18,
   "metadata": {
    "colab": {},
    "colab_type": "code",
    "id": "XUj1W4PJptta"
   },
   "outputs": [
    {
     "name": "stdout",
     "output_type": "stream",
     "text": [
      "Epoch 1/25\n",
      "250/250 [==============================] - 100s 392ms/step - loss: 0.6853 - accuracy: 0.5661 - val_loss: 0.6729 - val_accuracy: 0.6235\n",
      "Epoch 2/25\n",
      "250/250 [==============================] - 83s 330ms/step - loss: 0.6558 - accuracy: 0.6482 - val_loss: 0.6429 - val_accuracy: 0.6770\n",
      "Epoch 3/25\n",
      "250/250 [==============================] - 88s 351ms/step - loss: 0.6455 - accuracy: 0.6616 - val_loss: 0.6207 - val_accuracy: 0.7105\n",
      "Epoch 4/25\n",
      "250/250 [==============================] - 57s 227ms/step - loss: 0.6280 - accuracy: 0.6848 - val_loss: 0.6454 - val_accuracy: 0.6345\n",
      "Epoch 5/25\n",
      "250/250 [==============================] - 56s 224ms/step - loss: 0.6210 - accuracy: 0.6894 - val_loss: 0.6179 - val_accuracy: 0.6905\n",
      "Epoch 6/25\n",
      "250/250 [==============================] - 57s 226ms/step - loss: 0.6087 - accuracy: 0.7054 - val_loss: 0.6129 - val_accuracy: 0.6895\n",
      "Epoch 7/25\n",
      "250/250 [==============================] - 56s 223ms/step - loss: 0.5971 - accuracy: 0.7149 - val_loss: 0.5895 - val_accuracy: 0.7225\n",
      "Epoch 8/25\n",
      "250/250 [==============================] - 70s 280ms/step - loss: 0.5821 - accuracy: 0.7294 - val_loss: 0.5824 - val_accuracy: 0.7250\n",
      "Epoch 9/25\n",
      "250/250 [==============================] - 75s 301ms/step - loss: 0.5657 - accuracy: 0.7502 - val_loss: 0.5698 - val_accuracy: 0.7355\n",
      "Epoch 10/25\n",
      "250/250 [==============================] - 82s 328ms/step - loss: 0.5519 - accuracy: 0.7591 - val_loss: 0.5530 - val_accuracy: 0.7495\n",
      "Epoch 11/25\n",
      "250/250 [==============================] - 85s 340ms/step - loss: 0.5377 - accuracy: 0.7701 - val_loss: 0.5330 - val_accuracy: 0.7745\n",
      "Epoch 12/25\n",
      "250/250 [==============================] - 72s 289ms/step - loss: 0.5335 - accuracy: 0.7645 - val_loss: 0.5349 - val_accuracy: 0.7545\n",
      "Epoch 13/25\n",
      "250/250 [==============================] - 94s 375ms/step - loss: 0.5152 - accuracy: 0.7790 - val_loss: 0.5114 - val_accuracy: 0.7805\n",
      "Epoch 14/25\n",
      "250/250 [==============================] - 76s 304ms/step - loss: 0.5040 - accuracy: 0.7910 - val_loss: 0.5172 - val_accuracy: 0.7775\n",
      "Epoch 15/25\n",
      "250/250 [==============================] - 68s 273ms/step - loss: 0.4937 - accuracy: 0.7910 - val_loss: 0.5069 - val_accuracy: 0.7730\n",
      "Epoch 16/25\n",
      "250/250 [==============================] - 66s 265ms/step - loss: 0.4851 - accuracy: 0.7936 - val_loss: 0.5027 - val_accuracy: 0.7760\n",
      "Epoch 17/25\n",
      "250/250 [==============================] - 64s 255ms/step - loss: 0.4782 - accuracy: 0.7993 - val_loss: 0.5164 - val_accuracy: 0.7550\n",
      "Epoch 18/25\n",
      "250/250 [==============================] - 57s 227ms/step - loss: 0.4663 - accuracy: 0.8095 - val_loss: 0.4815 - val_accuracy: 0.7965\n",
      "Epoch 19/25\n",
      "250/250 [==============================] - 57s 228ms/step - loss: 0.4576 - accuracy: 0.8091 - val_loss: 0.4853 - val_accuracy: 0.7835\n",
      "Epoch 20/25\n",
      "250/250 [==============================] - 57s 228ms/step - loss: 0.4487 - accuracy: 0.8166 - val_loss: 0.4626 - val_accuracy: 0.8040\n",
      "Epoch 21/25\n",
      "250/250 [==============================] - 56s 223ms/step - loss: 0.4386 - accuracy: 0.8201 - val_loss: 0.4751 - val_accuracy: 0.7945\n",
      "Epoch 22/25\n",
      "250/250 [==============================] - 58s 232ms/step - loss: 0.4287 - accuracy: 0.8301 - val_loss: 0.4851 - val_accuracy: 0.7810\n",
      "Epoch 23/25\n",
      "250/250 [==============================] - 56s 226ms/step - loss: 0.4284 - accuracy: 0.8260 - val_loss: 0.4660 - val_accuracy: 0.7980\n",
      "Epoch 24/25\n",
      "250/250 [==============================] - 57s 227ms/step - loss: 0.4090 - accuracy: 0.8372 - val_loss: 0.4706 - val_accuracy: 0.7965\n",
      "Epoch 25/25\n",
      "250/250 [==============================] - 56s 224ms/step - loss: 0.4014 - accuracy: 0.8415 - val_loss: 0.4534 - val_accuracy: 0.8000\n"
     ]
    },
    {
     "data": {
      "text/plain": [
       "<keras.callbacks.History at 0x2ad94d9a3d0>"
      ]
     },
     "execution_count": 18,
     "metadata": {},
     "output_type": "execute_result"
    }
   ],
   "source": [
    "# 사진의 수는 8000개, 배치 사이즈가 32이기 때문에 epoch마다 250단계로 되어 있음.\n",
    "cnn.fit(x = training_set, validation_data = test_set, epochs = 25)"
   ]
  },
  {
   "cell_type": "markdown",
   "metadata": {
    "colab_type": "text",
    "id": "U3PZasO0006Z"
   },
   "source": [
    "훈련한 결과로 실험을 해보자"
   ]
  },
  {
   "cell_type": "code",
   "execution_count": 23,
   "metadata": {
    "colab": {},
    "colab_type": "code",
    "id": "gsSiWEJY1BPB"
   },
   "outputs": [
    {
     "name": "stdout",
     "output_type": "stream",
     "text": [
      "1/1 [==============================] - 0s 23ms/step\n"
     ]
    }
   ],
   "source": [
    "import numpy as np\n",
    "from keras.preprocessing import image\n",
    "import keras.utils as image\n",
    "test_image = image.load_img('dataset/single_prediction/cat_or_dog_1.jpg', target_size = (64, 64)) # 사이즈는 같게\n",
    "test_image = image.img_to_array(test_image)\n",
    "test_image = np.expand_dims(test_image, axis = 0) # 이미지를 추가하고 싶을 때 \n",
    "result = cnn.predict(test_image)\n",
    "\n",
    "# 강아지를 1, 고양이를 0으로 출력\n",
    "training_set.class_indices\n",
    "if result[0][0] == 1:\n",
    "  prediction = 'dog'\n",
    "else:\n",
    "  prediction = 'cat'"
   ]
  },
  {
   "cell_type": "code",
   "execution_count": 24,
   "metadata": {
    "colab": {},
    "colab_type": "code",
    "id": "ED9KB3I54c1i"
   },
   "outputs": [
    {
     "name": "stdout",
     "output_type": "stream",
     "text": [
      "cat\n"
     ]
    }
   ],
   "source": [
    "print(prediction)"
   ]
  },
  {
   "cell_type": "code",
   "execution_count": null,
   "metadata": {},
   "outputs": [],
   "source": []
  }
 ],
 "metadata": {
  "colab": {
   "collapsed_sections": [],
   "name": "convolutional_neural_network.ipynb",
   "provenance": [],
   "toc_visible": true
  },
  "kernelspec": {
   "display_name": "Python 3 (ipykernel)",
   "language": "python",
   "name": "python3"
  },
  "language_info": {
   "codemirror_mode": {
    "name": "ipython",
    "version": 3
   },
   "file_extension": ".py",
   "mimetype": "text/x-python",
   "name": "python",
   "nbconvert_exporter": "python",
   "pygments_lexer": "ipython3",
   "version": "3.9.13"
  }
 },
 "nbformat": 4,
 "nbformat_minor": 1
}
