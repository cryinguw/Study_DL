{
 "cells": [
  {
   "cell_type": "code",
   "execution_count": 1,
   "metadata": {
    "colab": {},
    "colab_type": "code",
    "id": "ZT1f24vHffuf"
   },
   "outputs": [],
   "source": [
    "import numpy as np\n",
    "import matplotlib.pyplot as plt\n",
    "import pandas as pd"
   ]
  },
  {
   "cell_type": "code",
   "execution_count": 2,
   "metadata": {
    "colab": {},
    "colab_type": "code",
    "id": "1xiv3pJOgqY3"
   },
   "outputs": [],
   "source": [
    "dataset_train = pd.read_csv('Google_Stock_Price_Train.csv')\n",
    "# 개장 열만 추출\n",
    "training_set = dataset_train.iloc[:, 1:2].values"
   ]
  },
  {
   "cell_type": "code",
   "execution_count": 6,
   "metadata": {
    "colab": {},
    "colab_type": "code",
    "id": "OTrF2kR7gx9x"
   },
   "outputs": [],
   "source": [
    "# RNN을 구축할 때 마다 활성화 함수로 시그모이드 함수가 존재할 때 정규화가 더 용이하다.\n",
    "from sklearn.preprocessing import MinMaxScaler\n",
    "sc = MinMaxScaler(feature_range = (0, 1))\n",
    "training_set_scaled = sc.fit_transform(training_set)"
   ]
  },
  {
   "cell_type": "code",
   "execution_count": 7,
   "metadata": {},
   "outputs": [
    {
     "data": {
      "text/plain": [
       "array([[0.08581368],\n",
       "       [0.09701243],\n",
       "       [0.09433366],\n",
       "       ...,\n",
       "       [0.95725128],\n",
       "       [0.93796041],\n",
       "       [0.93688146]])"
      ]
     },
     "execution_count": 7,
     "metadata": {},
     "output_type": "execute_result"
    }
   ],
   "source": [
    "# 0~1로 정규화된 모습\n",
    "training_set_scaled"
   ]
  },
  {
   "cell_type": "markdown",
   "metadata": {
    "colab_type": "text",
    "id": "JyYgYocqhNUg"
   },
   "source": [
    "### 타임스텝 만들기"
   ]
  },
  {
   "cell_type": "code",
   "execution_count": 8,
   "metadata": {
    "colab": {},
    "colab_type": "code",
    "id": "iofU21B0i6ST"
   },
   "outputs": [],
   "source": [
    "# 주식은 한 달에 20번 있으므로 3개월 전까지 즉, 60개의 타임스텝을 만들어본다.\n",
    "X_train = [] # 60개의 주가\n",
    "y_train = [] # 다음 주식시장의 주가\n",
    "for i in range(60, 1258):\n",
    "    X_train.append(training_set_scaled[i-60:i, 0])\n",
    "    y_train.append(training_set_scaled[i, 0])\n",
    "X_train, y_train = np.array(X_train), np.array(y_train)"
   ]
  },
  {
   "cell_type": "code",
   "execution_count": 9,
   "metadata": {
    "colab": {},
    "colab_type": "code",
    "id": "FOXqJHmNjBkz"
   },
   "outputs": [],
   "source": [
    "# 3차원으로 배열을 해야한다.\n",
    "# 관측치 수: 주가의 총 개수\n",
    "# 타입스탭의 수: 60개 X_train의 열 개수\n",
    "# 예측 변수에 해당하는 차원: 지표 수\n",
    "X_train = np.reshape(X_train, (X_train.shape[0], X_train.shape[1], 1))"
   ]
  },
  {
   "cell_type": "markdown",
   "metadata": {
    "colab_type": "text",
    "id": "ZRRSOJeVjEWV"
   },
   "source": [
    "# RNN 구현"
   ]
  },
  {
   "cell_type": "code",
   "execution_count": 10,
   "metadata": {
    "colab": {
     "base_uri": "https://localhost:8080/",
     "height": 34
    },
    "colab_type": "code",
    "id": "9JRnqsxEjKsD",
    "outputId": "b3e23e78-18aa-4396-c923-c877b8de60e4"
   },
   "outputs": [],
   "source": [
    "from keras.models import Sequential\n",
    "from keras.layers import Dense\n",
    "from keras.layers import LSTM\n",
    "from keras.layers import Dropout"
   ]
  },
  {
   "cell_type": "code",
   "execution_count": 11,
   "metadata": {
    "colab": {},
    "colab_type": "code",
    "id": "1338dJ0UjRKH"
   },
   "outputs": [],
   "source": [
    "# 주가라는 연속된 출력을 예측하기 때문에 ANN, CNN과 달리 회귀를 이용한다.\n",
    "regressor = Sequential()"
   ]
  },
  {
   "cell_type": "markdown",
   "metadata": {
    "colab_type": "text",
    "id": "62eg1OPGjT8z"
   },
   "source": [
    "### LSTM, 드롭아웃 정규화 추가하기"
   ]
  },
  {
   "cell_type": "code",
   "execution_count": 12,
   "metadata": {
    "colab": {},
    "colab_type": "code",
    "id": "2hIinyXUjbVU"
   },
   "outputs": [],
   "source": [
    "# 뉴런 수 50개, 반환 시퀀스 인수 True\n",
    "regressor.add(LSTM(units = 50, return_sequences = True, input_shape = (X_train.shape[1], 1)))\n",
    "regressor.add(Dropout(0.2)) # 과적합 방지"
   ]
  },
  {
   "cell_type": "code",
   "execution_count": 13,
   "metadata": {
    "colab": {},
    "colab_type": "code",
    "id": "UG7nrVaSjuZ2"
   },
   "outputs": [],
   "source": [
    "# 2번째\n",
    "regressor.add(LSTM(units = 50, return_sequences = True))\n",
    "regressor.add(Dropout(0.2)) \n",
    "# 3번째\n",
    "regressor.add(LSTM(units = 50, return_sequences = True))\n",
    "regressor.add(Dropout(0.2)) \n",
    "# 4번째 \n",
    "regressor.add(LSTM(units = 50))\n",
    "regressor.add(Dropout(0.2)) "
   ]
  },
  {
   "cell_type": "markdown",
   "metadata": {
    "colab_type": "text",
    "id": "9ABI6rOIkHhk"
   },
   "source": [
    "### 출력층 만들기"
   ]
  },
  {
   "cell_type": "code",
   "execution_count": 14,
   "metadata": {
    "colab": {},
    "colab_type": "code",
    "id": "aM6R1z4WkME8"
   },
   "outputs": [],
   "source": [
    "regressor.add(Dense(units = 1))"
   ]
  },
  {
   "cell_type": "markdown",
   "metadata": {},
   "source": [
    "RNN에서 옵티마이저는 크게 RMSProp, Adam이 있다.\n",
    "\n",
    "Adam이 Momentum과 RMSProp이 합쳐진 형태로\n",
    "\n",
    "일반적 알고리즘에서 현재 가장 많이 사용되고 있다."
   ]
  },
  {
   "cell_type": "code",
   "execution_count": 15,
   "metadata": {
    "colab": {},
    "colab_type": "code",
    "id": "XTrhVN-tkbko"
   },
   "outputs": [],
   "source": [
    "regressor.compile(optimizer = 'adam', loss = 'mean_squared_error')"
   ]
  },
  {
   "cell_type": "markdown",
   "metadata": {
    "colab_type": "text",
    "id": "-mPhwKGkkebi"
   },
   "source": [
    "### 에포크"
   ]
  },
  {
   "cell_type": "code",
   "execution_count": 16,
   "metadata": {
    "colab": {
     "base_uri": "https://localhost:8080/",
     "height": 1000
    },
    "colab_type": "code",
    "id": "I06Nkrz5kkb-",
    "outputId": "dc9d947a-4d5c-4dbc-ed45-31bf44b98dfb"
   },
   "outputs": [
    {
     "name": "stdout",
     "output_type": "stream",
     "text": [
      "Epoch 1/100\n",
      "38/38 [==============================] - 10s 71ms/step - loss: 0.0368\n",
      "Epoch 2/100\n",
      "38/38 [==============================] - 3s 70ms/step - loss: 0.0071\n",
      "Epoch 3/100\n",
      "38/38 [==============================] - 3s 69ms/step - loss: 0.0056\n",
      "Epoch 4/100\n",
      "38/38 [==============================] - 3s 75ms/step - loss: 0.0057\n",
      "Epoch 5/100\n",
      "38/38 [==============================] - 3s 77ms/step - loss: 0.0051\n",
      "Epoch 6/100\n",
      "38/38 [==============================] - 3s 71ms/step - loss: 0.0052\n",
      "Epoch 7/100\n",
      "38/38 [==============================] - 3s 66ms/step - loss: 0.0043\n",
      "Epoch 8/100\n",
      "38/38 [==============================] - 2s 61ms/step - loss: 0.0045\n",
      "Epoch 9/100\n",
      "38/38 [==============================] - 2s 61ms/step - loss: 0.0054\n",
      "Epoch 10/100\n",
      "38/38 [==============================] - 2s 62ms/step - loss: 0.0046\n",
      "Epoch 11/100\n",
      "38/38 [==============================] - 2s 63ms/step - loss: 0.0045\n",
      "Epoch 12/100\n",
      "38/38 [==============================] - 3s 71ms/step - loss: 0.0041\n",
      "Epoch 13/100\n",
      "38/38 [==============================] - 3s 69ms/step - loss: 0.0042\n",
      "Epoch 14/100\n",
      "38/38 [==============================] - 3s 68ms/step - loss: 0.0038\n",
      "Epoch 15/100\n",
      "38/38 [==============================] - 3s 69ms/step - loss: 0.0037\n",
      "Epoch 16/100\n",
      "38/38 [==============================] - 3s 69ms/step - loss: 0.0035\n",
      "Epoch 17/100\n",
      "38/38 [==============================] - 3s 69ms/step - loss: 0.0034\n",
      "Epoch 18/100\n",
      "38/38 [==============================] - 3s 68ms/step - loss: 0.0034\n",
      "Epoch 19/100\n",
      "38/38 [==============================] - 3s 69ms/step - loss: 0.0034\n",
      "Epoch 20/100\n",
      "38/38 [==============================] - 3s 68ms/step - loss: 0.0036\n",
      "Epoch 21/100\n",
      "38/38 [==============================] - 3s 68ms/step - loss: 0.0033\n",
      "Epoch 22/100\n",
      "38/38 [==============================] - 3s 68ms/step - loss: 0.0033\n",
      "Epoch 23/100\n",
      "38/38 [==============================] - 3s 73ms/step - loss: 0.0030\n",
      "Epoch 24/100\n",
      "38/38 [==============================] - 3s 74ms/step - loss: 0.0033\n",
      "Epoch 25/100\n",
      "38/38 [==============================] - 3s 75ms/step - loss: 0.0029\n",
      "Epoch 26/100\n",
      "38/38 [==============================] - 3s 72ms/step - loss: 0.0033\n",
      "Epoch 27/100\n",
      "38/38 [==============================] - 3s 73ms/step - loss: 0.0031\n",
      "Epoch 28/100\n",
      "38/38 [==============================] - 3s 70ms/step - loss: 0.0027\n",
      "Epoch 29/100\n",
      "38/38 [==============================] - 3s 70ms/step - loss: 0.0030\n",
      "Epoch 30/100\n",
      "38/38 [==============================] - 3s 69ms/step - loss: 0.0034\n",
      "Epoch 31/100\n",
      "38/38 [==============================] - 3s 70ms/step - loss: 0.0032\n",
      "Epoch 32/100\n",
      "38/38 [==============================] - 3s 71ms/step - loss: 0.0034\n",
      "Epoch 33/100\n",
      "38/38 [==============================] - 3s 70ms/step - loss: 0.0029\n",
      "Epoch 34/100\n",
      "38/38 [==============================] - 3s 74ms/step - loss: 0.0028\n",
      "Epoch 35/100\n",
      "38/38 [==============================] - 3s 74ms/step - loss: 0.0029\n",
      "Epoch 36/100\n",
      "38/38 [==============================] - 3s 71ms/step - loss: 0.0028\n",
      "Epoch 37/100\n",
      "38/38 [==============================] - 3s 74ms/step - loss: 0.0030\n",
      "Epoch 38/100\n",
      "38/38 [==============================] - 3s 72ms/step - loss: 0.0030\n",
      "Epoch 39/100\n",
      "38/38 [==============================] - 3s 68ms/step - loss: 0.0029\n",
      "Epoch 40/100\n",
      "38/38 [==============================] - 3s 69ms/step - loss: 0.0027\n",
      "Epoch 41/100\n",
      "38/38 [==============================] - 3s 70ms/step - loss: 0.0025\n",
      "Epoch 42/100\n",
      "38/38 [==============================] - 3s 69ms/step - loss: 0.0023\n",
      "Epoch 43/100\n",
      "38/38 [==============================] - 3s 69ms/step - loss: 0.0026\n",
      "Epoch 44/100\n",
      "38/38 [==============================] - 3s 68ms/step - loss: 0.0023\n",
      "Epoch 45/100\n",
      "38/38 [==============================] - 3s 69ms/step - loss: 0.0024\n",
      "Epoch 46/100\n",
      "38/38 [==============================] - 3s 69ms/step - loss: 0.0024\n",
      "Epoch 47/100\n",
      "38/38 [==============================] - 3s 72ms/step - loss: 0.0024\n",
      "Epoch 48/100\n",
      "38/38 [==============================] - 3s 73ms/step - loss: 0.0022\n",
      "Epoch 49/100\n",
      "38/38 [==============================] - 3s 73ms/step - loss: 0.0028\n",
      "Epoch 50/100\n",
      "38/38 [==============================] - 3s 73ms/step - loss: 0.0022\n",
      "Epoch 51/100\n",
      "38/38 [==============================] - 3s 74ms/step - loss: 0.0022\n",
      "Epoch 52/100\n",
      "38/38 [==============================] - 3s 75ms/step - loss: 0.0023\n",
      "Epoch 53/100\n",
      "38/38 [==============================] - 3s 76ms/step - loss: 0.0025\n",
      "Epoch 54/100\n",
      "38/38 [==============================] - 3s 74ms/step - loss: 0.0022\n",
      "Epoch 55/100\n",
      "38/38 [==============================] - 3s 67ms/step - loss: 0.0023\n",
      "Epoch 56/100\n",
      "38/38 [==============================] - 3s 76ms/step - loss: 0.0021\n",
      "Epoch 57/100\n",
      "38/38 [==============================] - 2s 65ms/step - loss: 0.0024\n",
      "Epoch 58/100\n",
      "38/38 [==============================] - 2s 62ms/step - loss: 0.0020\n",
      "Epoch 59/100\n",
      "38/38 [==============================] - 2s 62ms/step - loss: 0.0021\n",
      "Epoch 60/100\n",
      "38/38 [==============================] - 2s 65ms/step - loss: 0.0021\n",
      "Epoch 61/100\n",
      "38/38 [==============================] - 3s 71ms/step - loss: 0.0020\n",
      "Epoch 62/100\n",
      "38/38 [==============================] - 3s 70ms/step - loss: 0.0018\n",
      "Epoch 63/100\n",
      "38/38 [==============================] - 3s 70ms/step - loss: 0.0019\n",
      "Epoch 64/100\n",
      "38/38 [==============================] - 3s 70ms/step - loss: 0.0020\n",
      "Epoch 65/100\n",
      "38/38 [==============================] - 3s 75ms/step - loss: 0.0018\n",
      "Epoch 66/100\n",
      "38/38 [==============================] - 3s 77ms/step - loss: 0.0018\n",
      "Epoch 67/100\n",
      "38/38 [==============================] - 3s 73ms/step - loss: 0.0021\n",
      "Epoch 68/100\n",
      "38/38 [==============================] - 3s 69ms/step - loss: 0.0020\n",
      "Epoch 69/100\n",
      "38/38 [==============================] - 3s 69ms/step - loss: 0.0021\n",
      "Epoch 70/100\n",
      "38/38 [==============================] - 3s 70ms/step - loss: 0.0019\n",
      "Epoch 71/100\n",
      "38/38 [==============================] - 3s 69ms/step - loss: 0.0021\n",
      "Epoch 72/100\n",
      "38/38 [==============================] - 3s 69ms/step - loss: 0.0020\n",
      "Epoch 73/100\n",
      "38/38 [==============================] - 3s 69ms/step - loss: 0.0018\n",
      "Epoch 74/100\n",
      "38/38 [==============================] - 3s 70ms/step - loss: 0.0019\n",
      "Epoch 75/100\n",
      "38/38 [==============================] - 3s 70ms/step - loss: 0.0018\n",
      "Epoch 76/100\n",
      "38/38 [==============================] - 3s 69ms/step - loss: 0.0016\n",
      "Epoch 77/100\n",
      "38/38 [==============================] - 3s 69ms/step - loss: 0.0018\n",
      "Epoch 78/100\n",
      "38/38 [==============================] - 3s 71ms/step - loss: 0.0018\n",
      "Epoch 79/100\n",
      "38/38 [==============================] - 3s 68ms/step - loss: 0.0017\n",
      "Epoch 80/100\n",
      "38/38 [==============================] - 2s 63ms/step - loss: 0.0017\n",
      "Epoch 81/100\n",
      "38/38 [==============================] - 2s 65ms/step - loss: 0.0017\n",
      "Epoch 82/100\n",
      "38/38 [==============================] - 3s 68ms/step - loss: 0.0016\n",
      "Epoch 83/100\n",
      "38/38 [==============================] - 2s 62ms/step - loss: 0.0016\n",
      "Epoch 84/100\n",
      "38/38 [==============================] - 2s 61ms/step - loss: 0.0016\n",
      "Epoch 85/100\n",
      "38/38 [==============================] - 3s 70ms/step - loss: 0.0017\n",
      "Epoch 86/100\n",
      "38/38 [==============================] - 3s 77ms/step - loss: 0.0015\n",
      "Epoch 87/100\n",
      "38/38 [==============================] - 3s 77ms/step - loss: 0.0016\n",
      "Epoch 88/100\n",
      "38/38 [==============================] - 3s 74ms/step - loss: 0.0016\n",
      "Epoch 89/100\n",
      "38/38 [==============================] - 3s 71ms/step - loss: 0.0016\n",
      "Epoch 90/100\n",
      "38/38 [==============================] - 3s 76ms/step - loss: 0.0015\n",
      "Epoch 91/100\n",
      "38/38 [==============================] - 3s 77ms/step - loss: 0.0015\n",
      "Epoch 92/100\n",
      "38/38 [==============================] - 3s 75ms/step - loss: 0.0015\n",
      "Epoch 93/100\n",
      "38/38 [==============================] - 3s 72ms/step - loss: 0.0014\n",
      "Epoch 94/100\n",
      "38/38 [==============================] - 3s 70ms/step - loss: 0.0014\n",
      "Epoch 95/100\n",
      "38/38 [==============================] - 3s 70ms/step - loss: 0.0014\n",
      "Epoch 96/100\n",
      "38/38 [==============================] - 3s 71ms/step - loss: 0.0013\n",
      "Epoch 97/100\n",
      "38/38 [==============================] - 3s 71ms/step - loss: 0.0014\n",
      "Epoch 98/100\n",
      "38/38 [==============================] - 3s 73ms/step - loss: 0.0016\n",
      "Epoch 99/100\n",
      "38/38 [==============================] - 3s 80ms/step - loss: 0.0014\n",
      "Epoch 100/100\n",
      "38/38 [==============================] - 3s 79ms/step - loss: 0.0013\n"
     ]
    },
    {
     "data": {
      "text/plain": [
       "<keras.callbacks.History at 0x1596afa1730>"
      ]
     },
     "execution_count": 16,
     "metadata": {},
     "output_type": "execute_result"
    }
   ],
   "source": [
    "# 반복횟수인 100번의 에포크와 32개의 배치크기를 설정.\n",
    "regressor.fit(X_train, y_train, epochs = 100, batch_size = 32)"
   ]
  },
  {
   "cell_type": "markdown",
   "metadata": {},
   "source": [
    "0.1%의 손실률을 보였다."
   ]
  },
  {
   "cell_type": "markdown",
   "metadata": {
    "colab_type": "text",
    "id": "4hRau_lIkrE8"
   },
   "source": [
    "# 예측 및 시각화"
   ]
  },
  {
   "cell_type": "code",
   "execution_count": 17,
   "metadata": {
    "colab": {},
    "colab_type": "code",
    "id": "FmBT2zqukxTz"
   },
   "outputs": [],
   "source": [
    "# 2017년 주가 데이터 가져오기\n",
    "dataset_test = pd.read_csv('Google_Stock_Price_Test.csv')\n",
    "real_stock_price = dataset_test.iloc[:, 1:2].values"
   ]
  },
  {
   "cell_type": "code",
   "execution_count": 19,
   "metadata": {
    "colab": {},
    "colab_type": "code",
    "id": "emikTvUpk3Ck"
   },
   "outputs": [
    {
     "name": "stdout",
     "output_type": "stream",
     "text": [
      "1/1 [==============================] - 2s 2s/step\n"
     ]
    }
   ],
   "source": [
    "dataset_total = pd.concat((dataset_train['Open'], dataset_test['Open']), axis = 0)\n",
    "inputs = dataset_total[len(dataset_total) - len(dataset_test) - 60:].values\n",
    "inputs = inputs.reshape(-1,1)\n",
    "inputs = sc.transform(inputs)\n",
    "X_test = []\n",
    "for i in range(60, 80):\n",
    "    X_test.append(inputs[i-60:i, 0])\n",
    "X_test = np.array(X_test)\n",
    "X_test = np.reshape(X_test, (X_test.shape[0], X_test.shape[1], 1))\n",
    "predicted_stock_price = regressor.predict(X_test)\n",
    "predicted_stock_price = sc.inverse_transform(predicted_stock_price)"
   ]
  },
  {
   "cell_type": "code",
   "execution_count": 24,
   "metadata": {
    "colab": {
     "base_uri": "https://localhost:8080/",
     "height": 295
    },
    "colab_type": "code",
    "id": "8OUI8U49k9tH",
    "outputId": "db0ed15e-071b-4bae-955e-0eda3df95238"
   },
   "outputs": [
    {
     "data": {
      "image/png": "[encoded data removed]",
      "text/plain": [
       "<Figure size 640x480 with 1 Axes>"
      ]
     },
     "metadata": {},
     "output_type": "display_data"
    }
   ],
   "source": [
    "plt.plot(real_stock_price, color = 'red', label = 'Real')\n",
    "plt.plot(predicted_stock_price, color = 'blue', label = 'Predicted')\n",
    "plt.title('Google Stock Price Prediction')\n",
    "plt.xlabel('Time')\n",
    "plt.ylabel('Google Stock Price')\n",
    "plt.legend()\n",
    "plt.show()"
   ]
  },
  {
   "cell_type": "markdown",
   "metadata": {},
   "source": [
    "# 결론"
   ]
  },
  {
   "cell_type": "markdown",
   "metadata": {},
   "source": [
    "실제 값과 예측 값의 흐름이 비슷했다. \n",
    "\n",
    "그러나, 빠르고 비선형적인 변화에 따라갈 수 없기 때문에 주식이 폭등하는 부분에서는 예측 값이 따르지 못했다. \n",
    "\n",
    "모델 예측력을 향상 시키려면 \n",
    "\n",
    "1. 데이터 더 모으기\n",
    "2. 3개월 타임스텝을 더 길게 늘리기\n",
    "3. 구글 주가와 높은 상관관계를 가지고 있는 타 주가 지쵸를 추가하기\n",
    "4. LSTM 추가하기\n",
    "5. 뉴런 추가하기\n",
    "\n",
    "등이 있다. 다른 프로젝트를 진행할 때 참고해서 시도해야겠다."
   ]
  },
  {
   "cell_type": "code",
   "execution_count": null,
   "metadata": {},
   "outputs": [],
   "source": []
  }
 ],
 "metadata": {
  "colab": {
   "collapsed_sections": [],
   "name": "recurrent_neural_network.ipynb",
   "provenance": []
  },
  "kernelspec": {
   "display_name": "Python 3 (ipykernel)",
   "language": "python",
   "name": "python3"
  },
  "language_info": {
   "codemirror_mode": {
    "name": "ipython",
    "version": 3
   },
   "file_extension": ".py",
   "mimetype": "text/x-python",
   "name": "python",
   "nbconvert_exporter": "python",
   "pygments_lexer": "ipython3",
   "version": "3.9.13"
  }
 },
 "nbformat": 4,
 "nbformat_minor": 1
}
